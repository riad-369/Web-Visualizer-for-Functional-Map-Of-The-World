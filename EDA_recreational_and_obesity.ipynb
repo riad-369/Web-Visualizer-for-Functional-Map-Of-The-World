{
 "cells": [
  {
   "cell_type": "markdown",
   "id": "f0b428db",
   "metadata": {},
   "source": [
    "# Big data group project: Functional map of the world\n",
    "### Motivation: What is the relationship between countries' abundance of recreational and fitness locations to their average Body Mass Index (BMI)"
   ]
  },
  {
   "cell_type": "code",
   "execution_count": 1,
   "id": "df476cbb",
   "metadata": {},
   "outputs": [],
   "source": [
    "import pandas as pd\n",
    "import ast\n",
    "import numpy as np\n",
    "import matplotlib.pyplot as plt\n",
    "\n",
    "trainval = pd.read_csv(\"groundtruthdata.csv\")\n",
    "categorical_items = []\n",
    "for img in trainval[['bounding_boxes']].values:\n",
    "    correct_list = ast.literal_eval(img[0])\n",
    "    categorical_items.append(correct_list[0]['raw_category'])\n",
    "\n",
    "# Add New Row\n",
    "trainval['category'] = pd.Series(categorical_items)\n"
   ]
  },
  {
   "cell_type": "code",
   "execution_count": 2,
   "id": "f78f75be",
   "metadata": {},
   "outputs": [],
   "source": [
    "country_df = trainval[['country_code', 'category']].copy()"
   ]
  },
  {
   "cell_type": "code",
   "execution_count": 3,
   "id": "044fcca0",
   "metadata": {},
   "outputs": [],
   "source": [
    "#list of locations considered to be recreational\n",
    "recreational = [\"Golf Course\", \"Basketball Court\", \"Track and Field\", \"Soccer\", \n",
    "                \"Tennis Court\", \"Baseball Field\", \"American Football\", \"Swimming Pool\"]\n",
    "\n",
    "rec_df = country_df[country_df['category'].isin(recreational)]"
   ]
  },
  {
   "cell_type": "code",
   "execution_count": 4,
   "id": "e7f91632",
   "metadata": {},
   "outputs": [
    {
     "data": {
      "text/html": [
       "<div>\n",
       "<style scoped>\n",
       "    .dataframe tbody tr th:only-of-type {\n",
       "        vertical-align: middle;\n",
       "    }\n",
       "\n",
       "    .dataframe tbody tr th {\n",
       "        vertical-align: top;\n",
       "    }\n",
       "\n",
       "    .dataframe thead th {\n",
       "        text-align: right;\n",
       "    }\n",
       "</style>\n",
       "<table border=\"1\" class=\"dataframe\">\n",
       "  <thead>\n",
       "    <tr style=\"text-align: right;\">\n",
       "      <th></th>\n",
       "      <th>country_code</th>\n",
       "      <th>recreational</th>\n",
       "    </tr>\n",
       "  </thead>\n",
       "  <tbody>\n",
       "    <tr>\n",
       "      <th>0</th>\n",
       "      <td>USA</td>\n",
       "      <td>23496</td>\n",
       "    </tr>\n",
       "    <tr>\n",
       "      <th>1</th>\n",
       "      <td>BRA</td>\n",
       "      <td>4286</td>\n",
       "    </tr>\n",
       "    <tr>\n",
       "      <th>2</th>\n",
       "      <td>FRA</td>\n",
       "      <td>3657</td>\n",
       "    </tr>\n",
       "    <tr>\n",
       "      <th>3</th>\n",
       "      <td>JPN</td>\n",
       "      <td>2600</td>\n",
       "    </tr>\n",
       "    <tr>\n",
       "      <th>4</th>\n",
       "      <td>AUS</td>\n",
       "      <td>1891</td>\n",
       "    </tr>\n",
       "  </tbody>\n",
       "</table>\n",
       "</div>"
      ],
      "text/plain": [
       "  country_code  recreational\n",
       "0          USA         23496\n",
       "1          BRA          4286\n",
       "2          FRA          3657\n",
       "3          JPN          2600\n",
       "4          AUS          1891"
      ]
     },
     "execution_count": 4,
     "metadata": {},
     "output_type": "execute_result"
    }
   ],
   "source": [
    "#create a dataframe for countries frequency of recreational locations\n",
    "rec_count = rec_df['country_code'].value_counts()\n",
    "rec_count_df = pd.DataFrame(rec_count)\n",
    "rec_count_df.reset_index(inplace=True)\n",
    "rec_count_df = rec_count_df.rename(columns={'country_code':'recreational', 'index':'country_code'})\n",
    "rec_count_df.head()"
   ]
  },
  {
   "cell_type": "code",
   "execution_count": 5,
   "id": "1b1cf4c7",
   "metadata": {
    "scrolled": false
   },
   "outputs": [
    {
     "data": {
      "text/html": [
       "<div>\n",
       "<style scoped>\n",
       "    .dataframe tbody tr th:only-of-type {\n",
       "        vertical-align: middle;\n",
       "    }\n",
       "\n",
       "    .dataframe tbody tr th {\n",
       "        vertical-align: top;\n",
       "    }\n",
       "\n",
       "    .dataframe thead th {\n",
       "        text-align: right;\n",
       "    }\n",
       "</style>\n",
       "<table border=\"1\" class=\"dataframe\">\n",
       "  <thead>\n",
       "    <tr style=\"text-align: right;\">\n",
       "      <th></th>\n",
       "      <th>name</th>\n",
       "      <th>cca2</th>\n",
       "      <th>country_code</th>\n",
       "      <th>ccn3</th>\n",
       "      <th>bmi</th>\n",
       "      <th>Rank</th>\n",
       "      <th>pop2019</th>\n",
       "      <th>pop2018</th>\n",
       "      <th>GrowthRate</th>\n",
       "      <th>area</th>\n",
       "      <th>Density</th>\n",
       "    </tr>\n",
       "  </thead>\n",
       "  <tbody>\n",
       "    <tr>\n",
       "      <th>0</th>\n",
       "      <td>Afghanistan</td>\n",
       "      <td>AF</td>\n",
       "      <td>AFG</td>\n",
       "      <td>4</td>\n",
       "      <td>4.5</td>\n",
       "      <td>37</td>\n",
       "      <td>38041.754</td>\n",
       "      <td>NaN</td>\n",
       "      <td>1.0233</td>\n",
       "      <td>652230.0</td>\n",
       "      <td>58.3257</td>\n",
       "    </tr>\n",
       "    <tr>\n",
       "      <th>1</th>\n",
       "      <td>Albania</td>\n",
       "      <td>AL</td>\n",
       "      <td>ALB</td>\n",
       "      <td>8</td>\n",
       "      <td>22.3</td>\n",
       "      <td>140</td>\n",
       "      <td>2880.917</td>\n",
       "      <td>NaN</td>\n",
       "      <td>0.9989</td>\n",
       "      <td>28748.0</td>\n",
       "      <td>100.2128</td>\n",
       "    </tr>\n",
       "    <tr>\n",
       "      <th>2</th>\n",
       "      <td>Algeria</td>\n",
       "      <td>DZ</td>\n",
       "      <td>DZA</td>\n",
       "      <td>12</td>\n",
       "      <td>26.6</td>\n",
       "      <td>34</td>\n",
       "      <td>43053.054</td>\n",
       "      <td>NaN</td>\n",
       "      <td>1.0185</td>\n",
       "      <td>2381741.0</td>\n",
       "      <td>18.0763</td>\n",
       "    </tr>\n",
       "    <tr>\n",
       "      <th>3</th>\n",
       "      <td>American Samoa</td>\n",
       "      <td>AS</td>\n",
       "      <td>ASM</td>\n",
       "      <td>16</td>\n",
       "      <td>NaN</td>\n",
       "      <td>209</td>\n",
       "      <td>55.312</td>\n",
       "      <td>NaN</td>\n",
       "      <td>0.9978</td>\n",
       "      <td>199.0</td>\n",
       "      <td>277.9497</td>\n",
       "    </tr>\n",
       "    <tr>\n",
       "      <th>4</th>\n",
       "      <td>Andorra</td>\n",
       "      <td>AD</td>\n",
       "      <td>AND</td>\n",
       "      <td>20</td>\n",
       "      <td>28.0</td>\n",
       "      <td>202</td>\n",
       "      <td>77.142</td>\n",
       "      <td>NaN</td>\n",
       "      <td>1.0016</td>\n",
       "      <td>468.0</td>\n",
       "      <td>164.8333</td>\n",
       "    </tr>\n",
       "  </tbody>\n",
       "</table>\n",
       "</div>"
      ],
      "text/plain": [
       "             name cca2 country_code  ccn3   bmi  Rank    pop2019  pop2018  \\\n",
       "0     Afghanistan   AF          AFG     4   4.5    37  38041.754      NaN   \n",
       "1         Albania   AL          ALB     8  22.3   140   2880.917      NaN   \n",
       "2         Algeria   DZ          DZA    12  26.6    34  43053.054      NaN   \n",
       "3  American Samoa   AS          ASM    16   NaN   209     55.312      NaN   \n",
       "4         Andorra   AD          AND    20  28.0   202     77.142      NaN   \n",
       "\n",
       "   GrowthRate       area   Density  \n",
       "0      1.0233   652230.0   58.3257  \n",
       "1      0.9989    28748.0  100.2128  \n",
       "2      1.0185  2381741.0   18.0763  \n",
       "3      0.9978      199.0  277.9497  \n",
       "4      1.0016      468.0  164.8333  "
      ]
     },
     "execution_count": 5,
     "metadata": {},
     "output_type": "execute_result"
    }
   ],
   "source": [
    "#country_codes maps country names to their country codes\n",
    "country_codes = pd.read_csv('country_codes_2020.csv')\n",
    "# Country population an area information\n",
    "country_populations = pd.read_csv('countries_by_population_2019.csv')\n",
    "# Merging previous two dataframes\n",
    "country_df = country_codes.merge(country_populations, on='name', how='inner')\n",
    "country_df = country_df.rename(columns={'cca3':'country_code'})\n",
    "country_df.head()"
   ]
  },
  {
   "cell_type": "code",
   "execution_count": 6,
   "id": "8f767b93",
   "metadata": {},
   "outputs": [],
   "source": [
    "country_df = country_df.merge(rec_count_df, on='country_code', how='inner')"
   ]
  },
  {
   "cell_type": "code",
   "execution_count": 7,
   "id": "ee18f9f1",
   "metadata": {},
   "outputs": [
    {
     "data": {
      "text/html": [
       "<div>\n",
       "<style scoped>\n",
       "    .dataframe tbody tr th:only-of-type {\n",
       "        vertical-align: middle;\n",
       "    }\n",
       "\n",
       "    .dataframe tbody tr th {\n",
       "        vertical-align: top;\n",
       "    }\n",
       "\n",
       "    .dataframe thead th {\n",
       "        text-align: right;\n",
       "    }\n",
       "</style>\n",
       "<table border=\"1\" class=\"dataframe\">\n",
       "  <thead>\n",
       "    <tr style=\"text-align: right;\">\n",
       "      <th></th>\n",
       "      <th>name</th>\n",
       "      <th>cca2</th>\n",
       "      <th>country_code</th>\n",
       "      <th>ccn3</th>\n",
       "      <th>bmi</th>\n",
       "      <th>Rank</th>\n",
       "      <th>pop2019</th>\n",
       "      <th>pop2018</th>\n",
       "      <th>GrowthRate</th>\n",
       "      <th>area</th>\n",
       "      <th>Density</th>\n",
       "      <th>recreational</th>\n",
       "      <th>recreational_per_area</th>\n",
       "    </tr>\n",
       "  </thead>\n",
       "  <tbody>\n",
       "    <tr>\n",
       "      <th>5</th>\n",
       "      <td>Aruba</td>\n",
       "      <td>AW</td>\n",
       "      <td>ABW</td>\n",
       "      <td>533</td>\n",
       "      <td>NaN</td>\n",
       "      <td>196</td>\n",
       "      <td>106.314</td>\n",
       "      <td>NaN</td>\n",
       "      <td>1.0043</td>\n",
       "      <td>180.0</td>\n",
       "      <td>590.6333</td>\n",
       "      <td>13</td>\n",
       "      <td>0.072222</td>\n",
       "    </tr>\n",
       "    <tr>\n",
       "      <th>6</th>\n",
       "      <td>Australia</td>\n",
       "      <td>AU</td>\n",
       "      <td>AUS</td>\n",
       "      <td>36</td>\n",
       "      <td>30.4</td>\n",
       "      <td>55</td>\n",
       "      <td>25203.198</td>\n",
       "      <td>NaN</td>\n",
       "      <td>1.0118</td>\n",
       "      <td>7692024.0</td>\n",
       "      <td>3.2765</td>\n",
       "      <td>1891</td>\n",
       "      <td>0.000246</td>\n",
       "    </tr>\n",
       "    <tr>\n",
       "      <th>8</th>\n",
       "      <td>Bahamas</td>\n",
       "      <td>BS</td>\n",
       "      <td>BHS</td>\n",
       "      <td>44</td>\n",
       "      <td>32.1</td>\n",
       "      <td>178</td>\n",
       "      <td>389.482</td>\n",
       "      <td>NaN</td>\n",
       "      <td>1.0097</td>\n",
       "      <td>13943.0</td>\n",
       "      <td>27.9339</td>\n",
       "      <td>10</td>\n",
       "      <td>0.000717</td>\n",
       "    </tr>\n",
       "    <tr>\n",
       "      <th>15</th>\n",
       "      <td>Bermuda</td>\n",
       "      <td>BM</td>\n",
       "      <td>BMU</td>\n",
       "      <td>60</td>\n",
       "      <td>NaN</td>\n",
       "      <td>205</td>\n",
       "      <td>62.506</td>\n",
       "      <td>NaN</td>\n",
       "      <td>0.9964</td>\n",
       "      <td>54.0</td>\n",
       "      <td>1157.5185</td>\n",
       "      <td>3</td>\n",
       "      <td>0.055556</td>\n",
       "    </tr>\n",
       "    <tr>\n",
       "      <th>20</th>\n",
       "      <td>Brunei</td>\n",
       "      <td>BN</td>\n",
       "      <td>BRN</td>\n",
       "      <td>96</td>\n",
       "      <td>NaN</td>\n",
       "      <td>175</td>\n",
       "      <td>433.285</td>\n",
       "      <td>NaN</td>\n",
       "      <td>1.0097</td>\n",
       "      <td>5765.0</td>\n",
       "      <td>75.1578</td>\n",
       "      <td>2</td>\n",
       "      <td>0.000347</td>\n",
       "    </tr>\n",
       "  </tbody>\n",
       "</table>\n",
       "</div>"
      ],
      "text/plain": [
       "         name cca2 country_code  ccn3   bmi  Rank    pop2019  pop2018  \\\n",
       "5       Aruba   AW          ABW   533   NaN   196    106.314      NaN   \n",
       "6   Australia   AU          AUS    36  30.4    55  25203.198      NaN   \n",
       "8     Bahamas   BS          BHS    44  32.1   178    389.482      NaN   \n",
       "15    Bermuda   BM          BMU    60   NaN   205     62.506      NaN   \n",
       "20     Brunei   BN          BRN    96   NaN   175    433.285      NaN   \n",
       "\n",
       "    GrowthRate       area    Density  recreational  recreational_per_area  \n",
       "5       1.0043      180.0   590.6333            13               0.072222  \n",
       "6       1.0118  7692024.0     3.2765          1891               0.000246  \n",
       "8       1.0097    13943.0    27.9339            10               0.000717  \n",
       "15      0.9964       54.0  1157.5185             3               0.055556  \n",
       "20      1.0097     5765.0    75.1578             2               0.000347  "
      ]
     },
     "execution_count": 7,
     "metadata": {},
     "output_type": "execute_result"
    }
   ],
   "source": [
    "#Minimum bmi to be considered \"obese\" is 30\n",
    "country_df = country_df.drop(country_df[country_df.bmi < 30].index)\n",
    "\n",
    "#To make the distribution even for smaller countries, \n",
    "#we consider the density of recreational locations by calculating recreational_per_area\n",
    "country_df['recreational_per_area'] = country_df.apply(lambda row: (row.recreational/row.area), axis = 1)\n",
    "country_df.head()"
   ]
  },
  {
   "cell_type": "code",
   "execution_count": 8,
   "id": "60ea9354",
   "metadata": {},
   "outputs": [
    {
     "data": {
      "text/plain": [
       "<AxesSubplot:xlabel='recreational_per_area'>"
      ]
     },
     "execution_count": 8,
     "metadata": {},
     "output_type": "execute_result"
    },
    {
     "data": {
      "image/png": "[encoded data removed]",
      "text/plain": [
       "<Figure size 432x288 with 1 Axes>"
      ]
     },
     "metadata": {
      "needs_background": "light"
     },
     "output_type": "display_data"
    }
   ],
   "source": [
    "country_df.plot(x=\"recreational_per_area\", y = \"bmi\", style = 'o' )"
   ]
  },
  {
   "cell_type": "code",
   "execution_count": 9,
   "id": "fb383105",
   "metadata": {},
   "outputs": [],
   "source": [
    "corr_coefficient = country_df[\"recreational_per_area\"].corr(country_df[\"bmi\"])"
   ]
  },
  {
   "cell_type": "markdown",
   "id": "51164387",
   "metadata": {},
   "source": [
    "### Conclusion"
   ]
  },
  {
   "cell_type": "code",
   "execution_count": 10,
   "id": "a83b78c6",
   "metadata": {},
   "outputs": [
    {
     "data": {
      "text/plain": [
       "'The slightly negative correlation between recreational locationsper square area in a country to their average BMI of -0.0309449360611722 suggests that the more recreational locations available, the lower the average BMI.Possibly, people use these facilities when in abundance and maintain a relatively lower BMI.'"
      ]
     },
     "execution_count": 10,
     "metadata": {},
     "output_type": "execute_result"
    }
   ],
   "source": [
    "f\"The slightly negative correlation between recreational locations\\\n",
    "per square area in a country to their average BMI of {corr_coefficient} \\\n",
    "suggests that the more recreational locations available, the lower the average BMI.\\\n",
    "Possibly, people use these facilities when in abundance and maintain a relatively lower BMI.\""
   ]
  },
  {
   "cell_type": "code",
   "execution_count": null,
   "id": "67d21fc4",
   "metadata": {},
   "outputs": [],
   "source": []
  }
 ],
 "metadata": {
  "kernelspec": {
   "display_name": "Python 3 (ipykernel)",
   "language": "python",
   "name": "python3"
  },
  "language_info": {
   "codemirror_mode": {
    "name": "ipython",
    "version": 3
   },
   "file_extension": ".py",
   "mimetype": "text/x-python",
   "name": "python",
   "nbconvert_exporter": "python",
   "pygments_lexer": "ipython3",
   "version": "3.9.12"
  }
 },
 "nbformat": 4,
 "nbformat_minor": 5
}
