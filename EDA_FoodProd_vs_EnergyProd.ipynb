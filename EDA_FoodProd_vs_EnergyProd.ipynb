{
 "cells": [
  {
   "cell_type": "markdown",
   "id": "7ae5d1bb",
   "metadata": {},
   "source": [
    "# Big Data Group Project: Functional Map of the World"
   ]
  },
  {
   "cell_type": "markdown",
   "id": "7565ba3d",
   "metadata": {},
   "source": [
    "## Purpose of this notebook: To evaluate how countries prioritize Food Manufacturing/Farming and Power/Energy Industry relative to one another"
   ]
  },
  {
   "cell_type": "code",
   "execution_count": 27,
   "id": "03033e65",
   "metadata": {},
   "outputs": [
    {
     "data": {
      "text/html": [
       "<div>\n",
       "<style scoped>\n",
       "    .dataframe tbody tr th:only-of-type {\n",
       "        vertical-align: middle;\n",
       "    }\n",
       "\n",
       "    .dataframe tbody tr th {\n",
       "        vertical-align: top;\n",
       "    }\n",
       "\n",
       "    .dataframe thead th {\n",
       "        text-align: right;\n",
       "    }\n",
       "</style>\n",
       "<table border=\"1\" class=\"dataframe\">\n",
       "  <thead>\n",
       "    <tr style=\"text-align: right;\">\n",
       "      <th></th>\n",
       "      <th>Unnamed: 0</th>\n",
       "      <th>img_filename</th>\n",
       "      <th>bounding_boxes</th>\n",
       "      <th>gsd</th>\n",
       "      <th>img_width</th>\n",
       "      <th>img_height</th>\n",
       "      <th>mean_pixel_height</th>\n",
       "      <th>mean_pixel_width</th>\n",
       "      <th>utm</th>\n",
       "      <th>country_code</th>\n",
       "      <th>...</th>\n",
       "      <th>off_nadir_angle_start_dbl</th>\n",
       "      <th>off_nadir_angle_end_dbl</th>\n",
       "      <th>off_nadir_angle_min_dbl</th>\n",
       "      <th>off_nadir_angle_max_dbl</th>\n",
       "      <th>catalog_id</th>\n",
       "      <th>sensor_platform_name</th>\n",
       "      <th>raw_location</th>\n",
       "      <th>spatial_reference</th>\n",
       "      <th>epsg</th>\n",
       "      <th>abs_cal_factors</th>\n",
       "    </tr>\n",
       "  </thead>\n",
       "  <tbody>\n",
       "    <tr>\n",
       "      <th>0</th>\n",
       "      <td>0</td>\n",
       "      <td>fountain_514_1_ms.tif</td>\n",
       "      <td>[{'raw_category': 'Fountain', 'category': 'fou...</td>\n",
       "      <td>1.873781</td>\n",
       "      <td>245</td>\n",
       "      <td>166</td>\n",
       "      <td>0.000018</td>\n",
       "      <td>0.000018</td>\n",
       "      <td>32T</td>\n",
       "      <td>CHE</td>\n",
       "      <td>...</td>\n",
       "      <td>19.256790</td>\n",
       "      <td>24.403067</td>\n",
       "      <td>19.256790</td>\n",
       "      <td>24.403067</td>\n",
       "      <td>105041000048BE00</td>\n",
       "      <td>GEOEYE01</td>\n",
       "      <td>POLYGON ((8.5808360117899998 47.44751609250000...</td>\n",
       "      <td>GCS_WGS_1984</td>\n",
       "      <td>4326</td>\n",
       "      <td>[{'band': 'blue', 'value': 0.0150102}, {'band'...</td>\n",
       "    </tr>\n",
       "    <tr>\n",
       "      <th>1</th>\n",
       "      <td>1</td>\n",
       "      <td>fountain_514_0_ms.tif</td>\n",
       "      <td>[{'raw_category': 'Fountain', 'category': 'fou...</td>\n",
       "      <td>2.192168</td>\n",
       "      <td>228</td>\n",
       "      <td>155</td>\n",
       "      <td>0.000020</td>\n",
       "      <td>0.000020</td>\n",
       "      <td>32T</td>\n",
       "      <td>CHE</td>\n",
       "      <td>...</td>\n",
       "      <td>22.788811</td>\n",
       "      <td>25.131763</td>\n",
       "      <td>22.788811</td>\n",
       "      <td>25.131763</td>\n",
       "      <td>1030010020204900</td>\n",
       "      <td>WORLDVIEW02</td>\n",
       "      <td>POLYGON ((8.5808360117899998 47.44751609250000...</td>\n",
       "      <td>GCS_WGS_1984</td>\n",
       "      <td>4326</td>\n",
       "      <td>[{'band': 'coastal', 'value': 0.009295654}, {'...</td>\n",
       "    </tr>\n",
       "    <tr>\n",
       "      <th>2</th>\n",
       "      <td>2</td>\n",
       "      <td>fountain_726_5_ms.tif</td>\n",
       "      <td>[{'raw_category': 'Fountain', 'category': 'fou...</td>\n",
       "      <td>2.222167</td>\n",
       "      <td>227</td>\n",
       "      <td>205</td>\n",
       "      <td>0.000020</td>\n",
       "      <td>0.000020</td>\n",
       "      <td>17R</td>\n",
       "      <td>USA</td>\n",
       "      <td>...</td>\n",
       "      <td>25.423967</td>\n",
       "      <td>26.907818</td>\n",
       "      <td>24.740011</td>\n",
       "      <td>26.907818</td>\n",
       "      <td>1030010065AFD800</td>\n",
       "      <td>WORLDVIEW02</td>\n",
       "      <td>POLYGON ((-80.250062688200003 26.3062027036, -...</td>\n",
       "      <td>GCS_WGS_1984</td>\n",
       "      <td>4326</td>\n",
       "      <td>[{'band': 'coastal', 'value': 0.009295654}, {'...</td>\n",
       "    </tr>\n",
       "    <tr>\n",
       "      <th>3</th>\n",
       "      <td>3</td>\n",
       "      <td>fountain_726_7_ms.tif</td>\n",
       "      <td>[{'raw_category': 'Fountain', 'category': 'fou...</td>\n",
       "      <td>1.537864</td>\n",
       "      <td>326</td>\n",
       "      <td>294</td>\n",
       "      <td>0.000014</td>\n",
       "      <td>0.000014</td>\n",
       "      <td>17R</td>\n",
       "      <td>USA</td>\n",
       "      <td>...</td>\n",
       "      <td>27.138063</td>\n",
       "      <td>28.703564</td>\n",
       "      <td>27.138063</td>\n",
       "      <td>28.703564</td>\n",
       "      <td>104001002C462200</td>\n",
       "      <td>WORLDVIEW03_VNIR</td>\n",
       "      <td>POLYGON ((-80.250062688200003 26.3062027036, -...</td>\n",
       "      <td>GCS_WGS_1984</td>\n",
       "      <td>4326</td>\n",
       "      <td>[{'band': 'nir', 'value': 0.0166926}, {'band':...</td>\n",
       "    </tr>\n",
       "    <tr>\n",
       "      <th>4</th>\n",
       "      <td>4</td>\n",
       "      <td>fountain_726_6_ms.tif</td>\n",
       "      <td>[{'raw_category': 'Fountain', 'category': 'fou...</td>\n",
       "      <td>1.401362</td>\n",
       "      <td>356</td>\n",
       "      <td>321</td>\n",
       "      <td>0.000013</td>\n",
       "      <td>0.000013</td>\n",
       "      <td>17R</td>\n",
       "      <td>USA</td>\n",
       "      <td>...</td>\n",
       "      <td>22.079554</td>\n",
       "      <td>20.975574</td>\n",
       "      <td>20.975574</td>\n",
       "      <td>22.079554</td>\n",
       "      <td>1040010024086400</td>\n",
       "      <td>WORLDVIEW03_VNIR</td>\n",
       "      <td>POLYGON ((-80.250062688200003 26.3062027036, -...</td>\n",
       "      <td>GCS_WGS_1984</td>\n",
       "      <td>4326</td>\n",
       "      <td>[{'band': 'nir', 'value': 0.0117971}, {'band':...</td>\n",
       "    </tr>\n",
       "  </tbody>\n",
       "</table>\n",
       "<p>5 rows × 46 columns</p>\n",
       "</div>"
      ],
      "text/plain": [
       "   Unnamed: 0           img_filename  \\\n",
       "0           0  fountain_514_1_ms.tif   \n",
       "1           1  fountain_514_0_ms.tif   \n",
       "2           2  fountain_726_5_ms.tif   \n",
       "3           3  fountain_726_7_ms.tif   \n",
       "4           4  fountain_726_6_ms.tif   \n",
       "\n",
       "                                      bounding_boxes       gsd  img_width  \\\n",
       "0  [{'raw_category': 'Fountain', 'category': 'fou...  1.873781        245   \n",
       "1  [{'raw_category': 'Fountain', 'category': 'fou...  2.192168        228   \n",
       "2  [{'raw_category': 'Fountain', 'category': 'fou...  2.222167        227   \n",
       "3  [{'raw_category': 'Fountain', 'category': 'fou...  1.537864        326   \n",
       "4  [{'raw_category': 'Fountain', 'category': 'fou...  1.401362        356   \n",
       "\n",
       "   img_height  mean_pixel_height  mean_pixel_width  utm country_code  ...  \\\n",
       "0         166           0.000018          0.000018  32T          CHE  ...   \n",
       "1         155           0.000020          0.000020  32T          CHE  ...   \n",
       "2         205           0.000020          0.000020  17R          USA  ...   \n",
       "3         294           0.000014          0.000014  17R          USA  ...   \n",
       "4         321           0.000013          0.000013  17R          USA  ...   \n",
       "\n",
       "   off_nadir_angle_start_dbl off_nadir_angle_end_dbl off_nadir_angle_min_dbl  \\\n",
       "0                  19.256790               24.403067               19.256790   \n",
       "1                  22.788811               25.131763               22.788811   \n",
       "2                  25.423967               26.907818               24.740011   \n",
       "3                  27.138063               28.703564               27.138063   \n",
       "4                  22.079554               20.975574               20.975574   \n",
       "\n",
       "  off_nadir_angle_max_dbl        catalog_id  sensor_platform_name  \\\n",
       "0               24.403067  105041000048BE00              GEOEYE01   \n",
       "1               25.131763  1030010020204900           WORLDVIEW02   \n",
       "2               26.907818  1030010065AFD800           WORLDVIEW02   \n",
       "3               28.703564  104001002C462200      WORLDVIEW03_VNIR   \n",
       "4               22.079554  1040010024086400      WORLDVIEW03_VNIR   \n",
       "\n",
       "                                        raw_location  spatial_reference  epsg  \\\n",
       "0  POLYGON ((8.5808360117899998 47.44751609250000...       GCS_WGS_1984  4326   \n",
       "1  POLYGON ((8.5808360117899998 47.44751609250000...       GCS_WGS_1984  4326   \n",
       "2  POLYGON ((-80.250062688200003 26.3062027036, -...       GCS_WGS_1984  4326   \n",
       "3  POLYGON ((-80.250062688200003 26.3062027036, -...       GCS_WGS_1984  4326   \n",
       "4  POLYGON ((-80.250062688200003 26.3062027036, -...       GCS_WGS_1984  4326   \n",
       "\n",
       "                                     abs_cal_factors  \n",
       "0  [{'band': 'blue', 'value': 0.0150102}, {'band'...  \n",
       "1  [{'band': 'coastal', 'value': 0.009295654}, {'...  \n",
       "2  [{'band': 'coastal', 'value': 0.009295654}, {'...  \n",
       "3  [{'band': 'nir', 'value': 0.0166926}, {'band':...  \n",
       "4  [{'band': 'nir', 'value': 0.0117971}, {'band':...  \n",
       "\n",
       "[5 rows x 46 columns]"
      ]
     },
     "execution_count": 27,
     "metadata": {},
     "output_type": "execute_result"
    }
   ],
   "source": [
    "# import the data and relevant libraries\n",
    "import pandas as pd\n",
    "import ast\n",
    "\n",
    "data=pd.read_csv(\"../datasets/groundtruthdatamsrgbtrainval.csv\")\n",
    "\n",
    "data.head()"
   ]
  },
  {
   "cell_type": "code",
   "execution_count": 28,
   "id": "e14b96ae",
   "metadata": {},
   "outputs": [],
   "source": [
    "# extract relevant information from the dataframe\n",
    "categorical_items = []\n",
    "for img in data[['bounding_boxes']].values:\n",
    "    correct_list = ast.literal_eval(img[0])\n",
    "    categorical_items.append(correct_list[0]['raw_category'])\n",
    "\n",
    "# Add New Row\n",
    "data['category'] = pd.Series(categorical_items)"
   ]
  },
  {
   "cell_type": "code",
   "execution_count": 29,
   "id": "6ea2fcfb",
   "metadata": {},
   "outputs": [],
   "source": [
    "category_df = data[['country_code', 'category']].copy()"
   ]
  },
  {
   "cell_type": "code",
   "execution_count": 30,
   "id": "23c6b2e9",
   "metadata": {},
   "outputs": [],
   "source": [
    "food_prod = [\"Crop Field Orchard\",\"Crop Field Rice\",\"Crop Field Corn\",\"Crop_Field_General\",\"Crop Field Barley\",\n",
    "             \"Crop Field Wheat\",\"Crop Field Vineyard\",\"Crop Field Coffee\",\"Crop Field Flowers\",\n",
    "             \"Crop Field Tea\",\"Aquaculture\"]\n",
    "\n",
    "energy_prod=[\"Nuclear Powerplant\",\"Wind Farm\",\"Factory/Powerplant\",\"Solar Farm\"]\n",
    "\n",
    "food_df=category_df[category_df['category'].isin(food_prod)]\n",
    "energy_df=category_df[category_df['category'].isin(energy_prod)]\n"
   ]
  },
  {
   "cell_type": "code",
   "execution_count": 31,
   "id": "944a1c82",
   "metadata": {},
   "outputs": [
    {
     "data": {
      "text/html": [
       "<div>\n",
       "<style scoped>\n",
       "    .dataframe tbody tr th:only-of-type {\n",
       "        vertical-align: middle;\n",
       "    }\n",
       "\n",
       "    .dataframe tbody tr th {\n",
       "        vertical-align: top;\n",
       "    }\n",
       "\n",
       "    .dataframe thead th {\n",
       "        text-align: right;\n",
       "    }\n",
       "</style>\n",
       "<table border=\"1\" class=\"dataframe\">\n",
       "  <thead>\n",
       "    <tr style=\"text-align: right;\">\n",
       "      <th></th>\n",
       "      <th>country_code</th>\n",
       "      <th>category</th>\n",
       "    </tr>\n",
       "  </thead>\n",
       "  <tbody>\n",
       "    <tr>\n",
       "      <th>133425</th>\n",
       "      <td>PHL</td>\n",
       "      <td>Aquaculture</td>\n",
       "    </tr>\n",
       "    <tr>\n",
       "      <th>133426</th>\n",
       "      <td>PHL</td>\n",
       "      <td>Aquaculture</td>\n",
       "    </tr>\n",
       "    <tr>\n",
       "      <th>133427</th>\n",
       "      <td>PHL</td>\n",
       "      <td>Aquaculture</td>\n",
       "    </tr>\n",
       "    <tr>\n",
       "      <th>133428</th>\n",
       "      <td>PHL</td>\n",
       "      <td>Aquaculture</td>\n",
       "    </tr>\n",
       "    <tr>\n",
       "      <th>133429</th>\n",
       "      <td>PHL</td>\n",
       "      <td>Aquaculture</td>\n",
       "    </tr>\n",
       "  </tbody>\n",
       "</table>\n",
       "</div>"
      ],
      "text/plain": [
       "       country_code     category\n",
       "133425          PHL  Aquaculture\n",
       "133426          PHL  Aquaculture\n",
       "133427          PHL  Aquaculture\n",
       "133428          PHL  Aquaculture\n",
       "133429          PHL  Aquaculture"
      ]
     },
     "execution_count": 31,
     "metadata": {},
     "output_type": "execute_result"
    }
   ],
   "source": [
    "food_df.head()"
   ]
  },
  {
   "cell_type": "code",
   "execution_count": 32,
   "id": "b1de99f7",
   "metadata": {},
   "outputs": [
    {
     "data": {
      "text/html": [
       "<div>\n",
       "<style scoped>\n",
       "    .dataframe tbody tr th:only-of-type {\n",
       "        vertical-align: middle;\n",
       "    }\n",
       "\n",
       "    .dataframe tbody tr th {\n",
       "        vertical-align: top;\n",
       "    }\n",
       "\n",
       "    .dataframe thead th {\n",
       "        text-align: right;\n",
       "    }\n",
       "</style>\n",
       "<table border=\"1\" class=\"dataframe\">\n",
       "  <thead>\n",
       "    <tr style=\"text-align: right;\">\n",
       "      <th></th>\n",
       "      <th>country_code</th>\n",
       "      <th>category</th>\n",
       "    </tr>\n",
       "  </thead>\n",
       "  <tbody>\n",
       "    <tr>\n",
       "      <th>26093</th>\n",
       "      <td>SVN</td>\n",
       "      <td>Nuclear Powerplant</td>\n",
       "    </tr>\n",
       "    <tr>\n",
       "      <th>26094</th>\n",
       "      <td>SVN</td>\n",
       "      <td>Nuclear Powerplant</td>\n",
       "    </tr>\n",
       "    <tr>\n",
       "      <th>26095</th>\n",
       "      <td>USA</td>\n",
       "      <td>Nuclear Powerplant</td>\n",
       "    </tr>\n",
       "    <tr>\n",
       "      <th>26096</th>\n",
       "      <td>USA</td>\n",
       "      <td>Nuclear Powerplant</td>\n",
       "    </tr>\n",
       "    <tr>\n",
       "      <th>26097</th>\n",
       "      <td>USA</td>\n",
       "      <td>Nuclear Powerplant</td>\n",
       "    </tr>\n",
       "  </tbody>\n",
       "</table>\n",
       "</div>"
      ],
      "text/plain": [
       "      country_code            category\n",
       "26093          SVN  Nuclear Powerplant\n",
       "26094          SVN  Nuclear Powerplant\n",
       "26095          USA  Nuclear Powerplant\n",
       "26096          USA  Nuclear Powerplant\n",
       "26097          USA  Nuclear Powerplant"
      ]
     },
     "execution_count": 32,
     "metadata": {},
     "output_type": "execute_result"
    }
   ],
   "source": [
    "energy_df.head()"
   ]
  },
  {
   "cell_type": "code",
   "execution_count": 33,
   "id": "a297ddba",
   "metadata": {},
   "outputs": [],
   "source": [
    "#get frequency of each category by country\n",
    "food_count=pd.DataFrame(food_df['country_code'].value_counts())\n",
    "energy_count=pd.DataFrame(energy_df['country_code'].value_counts())"
   ]
  },
  {
   "cell_type": "code",
   "execution_count": 34,
   "id": "be259d66",
   "metadata": {},
   "outputs": [
    {
     "data": {
      "text/html": [
       "<div>\n",
       "<style scoped>\n",
       "    .dataframe tbody tr th:only-of-type {\n",
       "        vertical-align: middle;\n",
       "    }\n",
       "\n",
       "    .dataframe tbody tr th {\n",
       "        vertical-align: top;\n",
       "    }\n",
       "\n",
       "    .dataframe thead th {\n",
       "        text-align: right;\n",
       "    }\n",
       "</style>\n",
       "<table border=\"1\" class=\"dataframe\">\n",
       "  <thead>\n",
       "    <tr style=\"text-align: right;\">\n",
       "      <th></th>\n",
       "      <th>country_code</th>\n",
       "    </tr>\n",
       "  </thead>\n",
       "  <tbody>\n",
       "    <tr>\n",
       "      <th>FRA</th>\n",
       "      <td>8296</td>\n",
       "    </tr>\n",
       "    <tr>\n",
       "      <th>ITA</th>\n",
       "      <td>7997</td>\n",
       "    </tr>\n",
       "    <tr>\n",
       "      <th>PHL</th>\n",
       "      <td>1743</td>\n",
       "    </tr>\n",
       "    <tr>\n",
       "      <th>USA</th>\n",
       "      <td>1420</td>\n",
       "    </tr>\n",
       "    <tr>\n",
       "      <th>SVN</th>\n",
       "      <td>675</td>\n",
       "    </tr>\n",
       "  </tbody>\n",
       "</table>\n",
       "</div>"
      ],
      "text/plain": [
       "     country_code\n",
       "FRA          8296\n",
       "ITA          7997\n",
       "PHL          1743\n",
       "USA          1420\n",
       "SVN           675"
      ]
     },
     "execution_count": 34,
     "metadata": {},
     "output_type": "execute_result"
    }
   ],
   "source": [
    "food_count.head()"
   ]
  },
  {
   "cell_type": "code",
   "execution_count": 35,
   "id": "f7de4890",
   "metadata": {},
   "outputs": [
    {
     "data": {
      "text/html": [
       "<div>\n",
       "<style scoped>\n",
       "    .dataframe tbody tr th:only-of-type {\n",
       "        vertical-align: middle;\n",
       "    }\n",
       "\n",
       "    .dataframe tbody tr th {\n",
       "        vertical-align: top;\n",
       "    }\n",
       "\n",
       "    .dataframe thead th {\n",
       "        text-align: right;\n",
       "    }\n",
       "</style>\n",
       "<table border=\"1\" class=\"dataframe\">\n",
       "  <thead>\n",
       "    <tr style=\"text-align: right;\">\n",
       "      <th></th>\n",
       "      <th>country_code</th>\n",
       "    </tr>\n",
       "  </thead>\n",
       "  <tbody>\n",
       "    <tr>\n",
       "      <th>CHN</th>\n",
       "      <td>2526</td>\n",
       "    </tr>\n",
       "    <tr>\n",
       "      <th>USA</th>\n",
       "      <td>2341</td>\n",
       "    </tr>\n",
       "    <tr>\n",
       "      <th>ITA</th>\n",
       "      <td>1722</td>\n",
       "    </tr>\n",
       "    <tr>\n",
       "      <th>IND</th>\n",
       "      <td>1407</td>\n",
       "    </tr>\n",
       "    <tr>\n",
       "      <th>DEU</th>\n",
       "      <td>1136</td>\n",
       "    </tr>\n",
       "  </tbody>\n",
       "</table>\n",
       "</div>"
      ],
      "text/plain": [
       "     country_code\n",
       "CHN          2526\n",
       "USA          2341\n",
       "ITA          1722\n",
       "IND          1407\n",
       "DEU          1136"
      ]
     },
     "execution_count": 35,
     "metadata": {},
     "output_type": "execute_result"
    }
   ],
   "source": [
    "energy_count.head()"
   ]
  },
  {
   "cell_type": "code",
   "execution_count": 36,
   "id": "78e3583c",
   "metadata": {},
   "outputs": [],
   "source": [
    "food_count.reset_index(inplace=True)\n",
    "food_count=food_count.rename(columns={'country_code':'Food Production Frequency','index':'country_code'})"
   ]
  },
  {
   "cell_type": "code",
   "execution_count": 37,
   "id": "b52403a7",
   "metadata": {},
   "outputs": [],
   "source": [
    "energy_count.reset_index(inplace=True)\n",
    "energy_count=energy_count.rename(columns={'country_code':'Energy Production Frequency','index':'country_code'})"
   ]
  },
  {
   "cell_type": "code",
   "execution_count": 38,
   "id": "f7b6f233",
   "metadata": {},
   "outputs": [
    {
     "data": {
      "text/html": [
       "<div>\n",
       "<style scoped>\n",
       "    .dataframe tbody tr th:only-of-type {\n",
       "        vertical-align: middle;\n",
       "    }\n",
       "\n",
       "    .dataframe tbody tr th {\n",
       "        vertical-align: top;\n",
       "    }\n",
       "\n",
       "    .dataframe thead th {\n",
       "        text-align: right;\n",
       "    }\n",
       "</style>\n",
       "<table border=\"1\" class=\"dataframe\">\n",
       "  <thead>\n",
       "    <tr style=\"text-align: right;\">\n",
       "      <th></th>\n",
       "      <th>country_code</th>\n",
       "      <th>Food Production Frequency</th>\n",
       "    </tr>\n",
       "  </thead>\n",
       "  <tbody>\n",
       "    <tr>\n",
       "      <th>0</th>\n",
       "      <td>FRA</td>\n",
       "      <td>8296</td>\n",
       "    </tr>\n",
       "    <tr>\n",
       "      <th>1</th>\n",
       "      <td>ITA</td>\n",
       "      <td>7997</td>\n",
       "    </tr>\n",
       "    <tr>\n",
       "      <th>2</th>\n",
       "      <td>PHL</td>\n",
       "      <td>1743</td>\n",
       "    </tr>\n",
       "    <tr>\n",
       "      <th>3</th>\n",
       "      <td>USA</td>\n",
       "      <td>1420</td>\n",
       "    </tr>\n",
       "    <tr>\n",
       "      <th>4</th>\n",
       "      <td>SVN</td>\n",
       "      <td>675</td>\n",
       "    </tr>\n",
       "  </tbody>\n",
       "</table>\n",
       "</div>"
      ],
      "text/plain": [
       "  country_code  Food Production Frequency\n",
       "0          FRA                       8296\n",
       "1          ITA                       7997\n",
       "2          PHL                       1743\n",
       "3          USA                       1420\n",
       "4          SVN                        675"
      ]
     },
     "execution_count": 38,
     "metadata": {},
     "output_type": "execute_result"
    }
   ],
   "source": [
    "food_count.head()"
   ]
  },
  {
   "cell_type": "code",
   "execution_count": 39,
   "id": "30b3bfa8",
   "metadata": {},
   "outputs": [
    {
     "data": {
      "text/html": [
       "<div>\n",
       "<style scoped>\n",
       "    .dataframe tbody tr th:only-of-type {\n",
       "        vertical-align: middle;\n",
       "    }\n",
       "\n",
       "    .dataframe tbody tr th {\n",
       "        vertical-align: top;\n",
       "    }\n",
       "\n",
       "    .dataframe thead th {\n",
       "        text-align: right;\n",
       "    }\n",
       "</style>\n",
       "<table border=\"1\" class=\"dataframe\">\n",
       "  <thead>\n",
       "    <tr style=\"text-align: right;\">\n",
       "      <th></th>\n",
       "      <th>country_code</th>\n",
       "      <th>Energy Production Frequency</th>\n",
       "    </tr>\n",
       "  </thead>\n",
       "  <tbody>\n",
       "    <tr>\n",
       "      <th>0</th>\n",
       "      <td>CHN</td>\n",
       "      <td>2526</td>\n",
       "    </tr>\n",
       "    <tr>\n",
       "      <th>1</th>\n",
       "      <td>USA</td>\n",
       "      <td>2341</td>\n",
       "    </tr>\n",
       "    <tr>\n",
       "      <th>2</th>\n",
       "      <td>ITA</td>\n",
       "      <td>1722</td>\n",
       "    </tr>\n",
       "    <tr>\n",
       "      <th>3</th>\n",
       "      <td>IND</td>\n",
       "      <td>1407</td>\n",
       "    </tr>\n",
       "    <tr>\n",
       "      <th>4</th>\n",
       "      <td>DEU</td>\n",
       "      <td>1136</td>\n",
       "    </tr>\n",
       "  </tbody>\n",
       "</table>\n",
       "</div>"
      ],
      "text/plain": [
       "  country_code  Energy Production Frequency\n",
       "0          CHN                         2526\n",
       "1          USA                         2341\n",
       "2          ITA                         1722\n",
       "3          IND                         1407\n",
       "4          DEU                         1136"
      ]
     },
     "execution_count": 39,
     "metadata": {},
     "output_type": "execute_result"
    }
   ],
   "source": [
    "energy_count.head()"
   ]
  },
  {
   "cell_type": "code",
   "execution_count": 40,
   "id": "237c0e0b",
   "metadata": {},
   "outputs": [
    {
     "data": {
      "text/html": [
       "<div>\n",
       "<style scoped>\n",
       "    .dataframe tbody tr th:only-of-type {\n",
       "        vertical-align: middle;\n",
       "    }\n",
       "\n",
       "    .dataframe tbody tr th {\n",
       "        vertical-align: top;\n",
       "    }\n",
       "\n",
       "    .dataframe thead th {\n",
       "        text-align: right;\n",
       "    }\n",
       "</style>\n",
       "<table border=\"1\" class=\"dataframe\">\n",
       "  <thead>\n",
       "    <tr style=\"text-align: right;\">\n",
       "      <th></th>\n",
       "      <th>country_code</th>\n",
       "      <th>Food Production Frequency</th>\n",
       "      <th>Energy Production Frequency</th>\n",
       "    </tr>\n",
       "  </thead>\n",
       "  <tbody>\n",
       "    <tr>\n",
       "      <th>0</th>\n",
       "      <td>FRA</td>\n",
       "      <td>8296</td>\n",
       "      <td>799</td>\n",
       "    </tr>\n",
       "    <tr>\n",
       "      <th>1</th>\n",
       "      <td>ITA</td>\n",
       "      <td>7997</td>\n",
       "      <td>1722</td>\n",
       "    </tr>\n",
       "    <tr>\n",
       "      <th>2</th>\n",
       "      <td>PHL</td>\n",
       "      <td>1743</td>\n",
       "      <td>22</td>\n",
       "    </tr>\n",
       "    <tr>\n",
       "      <th>3</th>\n",
       "      <td>USA</td>\n",
       "      <td>1420</td>\n",
       "      <td>2341</td>\n",
       "    </tr>\n",
       "    <tr>\n",
       "      <th>4</th>\n",
       "      <td>SVN</td>\n",
       "      <td>675</td>\n",
       "      <td>30</td>\n",
       "    </tr>\n",
       "  </tbody>\n",
       "</table>\n",
       "</div>"
      ],
      "text/plain": [
       "  country_code  Food Production Frequency  Energy Production Frequency\n",
       "0          FRA                       8296                          799\n",
       "1          ITA                       7997                         1722\n",
       "2          PHL                       1743                           22\n",
       "3          USA                       1420                         2341\n",
       "4          SVN                        675                           30"
      ]
     },
     "execution_count": 40,
     "metadata": {},
     "output_type": "execute_result"
    }
   ],
   "source": [
    "total_df=food_count.merge(energy_count, on='country_code',how='inner')\n",
    "total_df.head()"
   ]
  },
  {
   "cell_type": "markdown",
   "id": "a3695fa1",
   "metadata": {},
   "source": [
    "## Analysis of Data"
   ]
  },
  {
   "cell_type": "code",
   "execution_count": 41,
   "id": "2ca8a5a7",
   "metadata": {},
   "outputs": [
    {
     "data": {
      "image/png": "[encoded data removed]",
      "text/plain": [
       "<Figure size 640x480 with 1 Axes>"
      ]
     },
     "metadata": {},
     "output_type": "display_data"
    }
   ],
   "source": [
    "import matplotlib.pyplot as plt\n",
    "\n",
    "plt.scatter(total_df[\"Food Production Frequency\"],total_df[\"Energy Production Frequency\"])\n",
    "plt.title(\"Food Prod vs Energy Prod\")\n",
    "plt.xlabel(\"Food Prod\")\n",
    "plt.ylabel(\"Energy Prod\")\n",
    "plt.show()"
   ]
  },
  {
   "cell_type": "code",
   "execution_count": 42,
   "id": "b372b625",
   "metadata": {},
   "outputs": [
    {
     "name": "stdout",
     "output_type": "stream",
     "text": [
      "Correlation between Food and Energy Production in countries is : 0.4391783825063916\n"
     ]
    }
   ],
   "source": [
    "print(\"Correlation between Food and Energy Production in countries is :\",\n",
    "      total_df[\"Food Production Frequency\"].corr(total_df[\"Energy Production Frequency\"]))"
   ]
  },
  {
   "cell_type": "code",
   "execution_count": 65,
   "id": "6c782bf4",
   "metadata": {},
   "outputs": [
    {
     "data": {
      "text/plain": [
       "<AxesSubplot:xlabel='Food Production Frequency', ylabel='Energy Production Frequency'>"
      ]
     },
     "execution_count": 65,
     "metadata": {},
     "output_type": "execute_result"
    },
    {
     "data": {
      "image/png": "[encoded data removed]",
      "text/plain": [
       "<Figure size 640x480 with 1 Axes>"
      ]
     },
     "metadata": {},
     "output_type": "display_data"
    }
   ],
   "source": [
    "import numpy as np\n",
    "\n",
    "d= np.polyfit(total_df[\"Food Production Frequency\"],total_df[\"Energy Production Frequency\"],1)\n",
    "f=np.poly1d(d)\n",
    "\n",
    "total_df.insert(3,'Treg',f(total_df[\"Food Production Frequency\"]))\n",
    "ax = total_df.plot.scatter(x = 'Food Production Frequency',y='Energy Production Frequency')\n",
    "total_df.plot(x='Food Production Frequency', y='Treg',color='Red',ax=ax)"
   ]
  },
  {
   "cell_type": "code",
   "execution_count": null,
   "id": "1149d6aa",
   "metadata": {},
   "outputs": [],
   "source": []
  }
 ],
 "metadata": {
  "kernelspec": {
   "display_name": "Python 3 (ipykernel)",
   "language": "python",
   "name": "python3"
  },
  "language_info": {
   "codemirror_mode": {
    "name": "ipython",
    "version": 3
   },
   "file_extension": ".py",
   "mimetype": "text/x-python",
   "name": "python",
   "nbconvert_exporter": "python",
   "pygments_lexer": "ipython3",
   "version": "3.8.13"
  }
 },
 "nbformat": 4,
 "nbformat_minor": 5
}
