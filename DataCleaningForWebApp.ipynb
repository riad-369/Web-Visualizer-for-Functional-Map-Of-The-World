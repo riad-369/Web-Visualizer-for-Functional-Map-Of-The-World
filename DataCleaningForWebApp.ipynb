{
 "cells": [
  {
   "cell_type": "code",
   "execution_count": 1,
   "id": "2a9cdeff-92cd-4048-98e6-e3e7bc0fc910",
   "metadata": {},
   "outputs": [],
   "source": [
    "import pandas as pd\n",
    "import glob as glob\n",
    "import json\n",
    "from pprint import pprint\n",
    "\n",
    "\n",
    "import geojson\n"
   ]
  },
  {
   "cell_type": "code",
   "execution_count": 2,
   "id": "a6561cd6-4d57-4d90-8e8f-a2f8f3dbe385",
   "metadata": {},
   "outputs": [],
   "source": [
    "msrgb_train = glob.glob('./groundtruth/train/**/*rgb.json', recursive=True)\n",
    "msrgb_val = glob.glob('./groundtruth/val/**/*rgb.json', recursive=True)"
   ]
  },
  {
   "cell_type": "code",
   "execution_count": 3,
   "id": "774b123f-aee5-4182-a506-a45b43806e70",
   "metadata": {},
   "outputs": [],
   "source": [
    "url = 'https://spacenet-dataset.s3.amazonaws.com/Hosted-Datasets/fmow/fmow-rgb/'"
   ]
  },
  {
   "cell_type": "code",
   "execution_count": 4,
   "id": "c7bad510-9d8f-4b34-acef-c8fedce62f19",
   "metadata": {},
   "outputs": [],
   "source": [
    "from shapely.wkt import loads\n",
    "from shapely.geometry import mapping\n",
    "\n",
    "\n",
    "def processJson(filelist, img_url_prefix, dataset):\n",
    "    result = []\n",
    "    \n",
    "    if dataset == 'train':\n",
    "        prefix = 'train'\n",
    "    else:\n",
    "        prefix = 'val'\n",
    "        \n",
    "    for f in filelist:\n",
    "        # with open(f, \"r\") as infile:\n",
    "        entry = json.load(open(f))\n",
    "\n",
    "        category = entry['bounding_boxes'][0]['category']\n",
    "        num = [str(i) for i in entry['img_filename'].split('_') if i.isdigit()]\n",
    "        image_url = img_url_prefix + prefix + '/' + category + '/' + category + '_' + num[0] + '/' + category + '_' + num[0] + '_' + num[1] + '_msrgb.jpg' \n",
    "\n",
    "        geometry = json.loads(geojson.dumps(mapping(loads(entry['raw_location']))))\n",
    "\n",
    "        coordinates = json.loads(geojson.dumps(loads(entry['raw_location']).centroid.coords[0]))[::-1]\n",
    "\n",
    "        entry['category'] = category\n",
    "        entry['geometry'] = geometry\n",
    "        entry['coordinates'] = coordinates\n",
    "        entry['image_url'] = image_url\n",
    "        entry['set'] = prefix\n",
    "\n",
    "        result.append(entry)\n",
    "    return result\n",
    "    # pprint(url_train + obj + '/' + obj + '_' + idnum + '/' + obj + '_' + idnum + '_' + foldernum + '_msrgb.jpg' )\n",
    "\n",
    "fulldata = processJson(msrgb_train, url, 'train')\n",
    "fulldata.extend(processJson(msrgb_val, url, 'value'))"
   ]
  },
  {
   "cell_type": "code",
   "execution_count": 5,
   "id": "49fe7765-95d1-4d0b-ae8b-c61fbae2f252",
   "metadata": {},
   "outputs": [
    {
     "data": {
      "text/plain": [
       "416613"
      ]
     },
     "execution_count": 5,
     "metadata": {},
     "output_type": "execute_result"
    }
   ],
   "source": [
    "len(fulldata)"
   ]
  },
  {
   "cell_type": "code",
   "execution_count": 7,
   "id": "4966e103-754e-4bdf-91e6-9742d3c20f09",
   "metadata": {},
   "outputs": [
    {
     "name": "stdout",
     "output_type": "stream",
     "text": [
      "{'abs_cal_factors': [{'band': 'blue', 'value': 0.0150102},\n",
      "                     {'band': 'green', 'value': 0.0120281},\n",
      "                     {'band': 'red', 'value': 0.0097083},\n",
      "                     {'band': 'nir', 'value': 0.0134302}],\n",
      " 'approximate_wavelengths': [661, 545, 477],\n",
      " 'bounding_boxes': [{'ID': -1,\n",
      "                     'box': [466, 299, 72, 60],\n",
      "                     'category': 'fountain',\n",
      "                     'crowd_rank': 0.662536,\n",
      "                     'epsg': '4326',\n",
      "                     'raw_category': 'Fountain',\n",
      "                     'raw_location': 'POLYGON ((8.5829783604202152 '\n",
      "                                     '47.4491842338692322, 8.5833139643901841 '\n",
      "                                     '47.4491842338692322, 8.5833139643901841 '\n",
      "                                     '47.4489085080230737, 8.5829783604202152 '\n",
      "                                     '47.4489085080230737, 8.5829783604202152 '\n",
      "                                     '47.4491842338692322))',\n",
      "                     'spatial_reference': 'GCS_WGS_1984'},\n",
      "                    {'ID': 47768,\n",
      "                     'box': [466, 299, 72, 60],\n",
      "                     'category': 'fountain',\n",
      "                     'visible': 'True'}],\n",
      " 'catalog_id': '105041000048BE00',\n",
      " 'category': 'fountain',\n",
      " 'cloud_cover': 0,\n",
      " 'coordinates': [47.4490394778, 8.583081799999999],\n",
      " 'country_code': 'CHE',\n",
      " 'epsg': '4326',\n",
      " 'geometry': {'coordinates': [[[8.58083601179, 47.4475160925],\n",
      "                               [8.58532758821, 47.4475160925],\n",
      "                               [8.58532758821, 47.4505628631],\n",
      "                               [8.58083601179, 47.4505628631],\n",
      "                               [8.58083601179, 47.4475160925]]],\n",
      "              'type': 'Polygon'},\n",
      " 'gsd': 0.468074887991,\n",
      " 'image_url': 'https://spacenet-dataset.s3.amazonaws.com/Hosted-Datasets/fmow/fmow-rgb/train/fountain/fountain_514/fountain_514_1_msrgb.jpg',\n",
      " 'img_filename': 'fountain_514_1_rgb.tif',\n",
      " 'img_height': 663,\n",
      " 'img_width': 977,\n",
      " 'mean_pixel_height': 4.595430769222e-06,\n",
      " 'mean_pixel_width': 4.597314657113e-06,\n",
      " 'multi_resolution_dbl': 1.87378120422,\n",
      " 'multi_resolution_end_dbl': 1.93471360207,\n",
      " 'multi_resolution_max_dbl': 1.93471360207,\n",
      " 'multi_resolution_min_dbl': 1.81178331375,\n",
      " 'multi_resolution_start_dbl': 1.81178331375,\n",
      " 'off_nadir_angle_dbl': 21.8978748322,\n",
      " 'off_nadir_angle_end_dbl': 24.4030666351,\n",
      " 'off_nadir_angle_max_dbl': 24.4030666351,\n",
      " 'off_nadir_angle_min_dbl': 19.2567901611,\n",
      " 'off_nadir_angle_start_dbl': 19.2567901611,\n",
      " 'pan_resolution_dbl': 0.468074887991,\n",
      " 'pan_resolution_end_dbl': 0.483204722404,\n",
      " 'pan_resolution_max_dbl': 0.483204722404,\n",
      " 'pan_resolution_min_dbl': 0.452661842108,\n",
      " 'pan_resolution_start_dbl': 0.452661842108,\n",
      " 'raw_location': 'POLYGON ((8.5808360117899998 47.447516092500003, '\n",
      "                 '8.5853275882099993 47.447516092500003, 8.5853275882099993 '\n",
      "                 '47.450562863099996, 8.5808360117899998 47.450562863099996, '\n",
      "                 '8.5808360117899998 47.447516092500003))',\n",
      " 'scan_direction': 'Reverse',\n",
      " 'sensor_platform_name': 'GEOEYE01',\n",
      " 'set': 'train',\n",
      " 'spatial_reference': 'GCS_WGS_1984',\n",
      " 'sun_azimuth_dbl': 159.207946777,\n",
      " 'sun_azimuth_max_dbl': 159.974273682,\n",
      " 'sun_azimuth_min_dbl': 158.569869995,\n",
      " 'sun_elevation_dbl': 46.1834640503,\n",
      " 'sun_elevation_max_dbl': 46.3167991638,\n",
      " 'sun_elevation_min_dbl': 46.0713729858,\n",
      " 'target_azimuth_dbl': 31.2082061768,\n",
      " 'target_azimuth_end_dbl': 21.684381485,\n",
      " 'target_azimuth_max_dbl': 44.5366287231,\n",
      " 'target_azimuth_min_dbl': 21.684381485,\n",
      " 'target_azimuth_start_dbl': 44.5366287231,\n",
      " 'timestamp': '2012-04-02T10:32:22Z',\n",
      " 'utm': '32T'}\n"
     ]
    }
   ],
   "source": [
    "pprint(fulldata[0])"
   ]
  },
  {
   "cell_type": "code",
   "execution_count": 8,
   "id": "8fdf384c-465b-4208-8467-c05e16109ef6",
   "metadata": {},
   "outputs": [],
   "source": [
    "with open(\"FullData.json\", \"w\") as outfile:\n",
    "    json.dump(fulldata, outfile)"
   ]
  },
  {
   "cell_type": "code",
   "execution_count": 9,
   "id": "3867f67b-df5a-49b9-9b7b-272c80af04a2",
   "metadata": {},
   "outputs": [],
   "source": [
    "json.dump(fulldata[:4000], open('sampletestingdata.json', 'w'))"
   ]
  },
  {
   "cell_type": "code",
   "execution_count": 10,
   "id": "5dc59361-5239-40b2-b52f-ececd0397550",
   "metadata": {},
   "outputs": [],
   "source": [
    "load_json = pd.read_json('FullData.json')"
   ]
  },
  {
   "cell_type": "code",
   "execution_count": 11,
   "id": "940f42bb-daba-4909-aef6-b48d91905ff9",
   "metadata": {},
   "outputs": [
    {
     "data": {
      "text/plain": [
       "0         [{'raw_category': 'Fountain', 'category': 'fou...\n",
       "1         [{'raw_category': 'Fountain', 'category': 'fou...\n",
       "2         [{'raw_category': 'Fountain', 'category': 'fou...\n",
       "3         [{'raw_category': 'Fountain', 'category': 'fou...\n",
       "4         [{'raw_category': 'Fountain', 'category': 'fou...\n",
       "                                ...                        \n",
       "416608    [{'raw_category': 'Smokestack', 'category': 's...\n",
       "416609    [{'raw_category': 'Smokestack', 'category': 's...\n",
       "416610    [{'raw_category': 'Smokestack', 'category': 's...\n",
       "416611    [{'raw_category': 'Smokestack', 'category': 's...\n",
       "416612    [{'raw_category': 'Smokestack', 'category': 's...\n",
       "Name: bounding_boxes, Length: 416613, dtype: object"
      ]
     },
     "execution_count": 11,
     "metadata": {},
     "output_type": "execute_result"
    }
   ],
   "source": [
    "load_json['bounding_boxes']"
   ]
  },
  {
   "cell_type": "code",
   "execution_count": 12,
   "id": "69f74bd6-7fe3-4da6-81d2-71f9fa12cee6",
   "metadata": {},
   "outputs": [],
   "source": [
    "reverseCoordinates = load_json['coordinates'].apply(lambda x: x[::-1])"
   ]
  },
  {
   "cell_type": "code",
   "execution_count": 13,
   "id": "2f123580-a6df-4db3-bda6-8a1cabb22004",
   "metadata": {},
   "outputs": [
    {
     "data": {
      "text/plain": [
       "[47.4490394778, 8.583081799999999]"
      ]
     },
     "execution_count": 13,
     "metadata": {},
     "output_type": "execute_result"
    }
   ],
   "source": [
    "load_json['coordinates'][0]"
   ]
  },
  {
   "cell_type": "code",
   "execution_count": 16,
   "id": "03e98bab-b4ca-4dd5-ab1a-6e35586bea86",
   "metadata": {},
   "outputs": [
    {
     "data": {
      "text/plain": [
       "[8.583081799999999, 47.4490394778]"
      ]
     },
     "execution_count": 16,
     "metadata": {},
     "output_type": "execute_result"
    }
   ],
   "source": [
    "reverseCoordinates[0]"
   ]
  },
  {
   "cell_type": "code",
   "execution_count": 17,
   "id": "ef70ae44-ced5-442a-a048-5a9d108a8cdc",
   "metadata": {},
   "outputs": [
    {
     "data": {
      "text/plain": [
       "102904    https://spacenet-dataset.s3.amazonaws.com/Hosted-Datasets/fmow/fmow-rgb/train/multi-unit_residential/multi-unit_residential_232/multi-unit_residential_232_8_msrgb.jpg\n",
       "102905    https://spacenet-dataset.s3.amazonaws.com/Hosted-Datasets/fmow/fmow-rgb/train/multi-unit_residential/multi-unit_residential_232/multi-unit_residential_232_9_msrgb.jpg\n",
       "102906    https://spacenet-dataset.s3.amazonaws.com/Hosted-Datasets/fmow/fmow-rgb/train/multi-unit_residential/multi-unit_residential_232/multi-unit_residential_232_2_msrgb.jpg\n",
       "102907    https://spacenet-dataset.s3.amazonaws.com/Hosted-Datasets/fmow/fmow-rgb/train/multi-unit_residential/multi-unit_residential_232/multi-unit_residential_232_3_msrgb.jpg\n",
       "102908    https://spacenet-dataset.s3.amazonaws.com/Hosted-Datasets/fmow/fmow-rgb/train/multi-unit_residential/multi-unit_residential_232/multi-unit_residential_232_5_msrgb.jpg\n",
       "Name: image_url, dtype: object"
      ]
     },
     "execution_count": 17,
     "metadata": {},
     "output_type": "execute_result"
    }
   ],
   "source": [
    "pd.set_option('display.max_colwidth', None)\n",
    "load_json[load_json['category'] == 'multi-unit_residential']['image_url'].head()"
   ]
  },
  {
   "cell_type": "code",
   "execution_count": 18,
   "id": "16f03a26-8471-4592-bb2f-65e4ae6e57a6",
   "metadata": {},
   "outputs": [
    {
     "data": {
      "text/plain": [
       "Index(['img_filename', 'bounding_boxes', 'gsd', 'img_width', 'img_height',\n",
       "       'mean_pixel_height', 'mean_pixel_width', 'utm', 'country_code',\n",
       "       'cloud_cover', 'timestamp', 'scan_direction', 'approximate_wavelengths',\n",
       "       'pan_resolution_dbl', 'pan_resolution_start_dbl',\n",
       "       'pan_resolution_end_dbl', 'pan_resolution_min_dbl',\n",
       "       'pan_resolution_max_dbl', 'multi_resolution_dbl',\n",
       "       'multi_resolution_start_dbl', 'multi_resolution_end_dbl',\n",
       "       'multi_resolution_min_dbl', 'multi_resolution_max_dbl',\n",
       "       'target_azimuth_dbl', 'target_azimuth_start_dbl',\n",
       "       'target_azimuth_end_dbl', 'target_azimuth_min_dbl',\n",
       "       'target_azimuth_max_dbl', 'sun_azimuth_dbl', 'sun_azimuth_min_dbl',\n",
       "       'sun_azimuth_max_dbl', 'sun_elevation_dbl', 'sun_elevation_min_dbl',\n",
       "       'sun_elevation_max_dbl', 'off_nadir_angle_dbl',\n",
       "       'off_nadir_angle_start_dbl', 'off_nadir_angle_end_dbl',\n",
       "       'off_nadir_angle_min_dbl', 'off_nadir_angle_max_dbl', 'catalog_id',\n",
       "       'sensor_platform_name', 'raw_location', 'spatial_reference', 'epsg',\n",
       "       'abs_cal_factors', 'category', 'geometry', 'coordinates', 'image_url',\n",
       "       'set'],\n",
       "      dtype='object')"
      ]
     },
     "execution_count": 18,
     "metadata": {},
     "output_type": "execute_result"
    }
   ],
   "source": [
    "load_json.columns"
   ]
  },
  {
   "cell_type": "code",
   "execution_count": 20,
   "id": "97dd8f93-50ce-46f3-bba6-bc5154c29cef",
   "metadata": {},
   "outputs": [
    {
     "data": {
      "text/plain": [
       "0            GEOEYE01\n",
       "1         WORLDVIEW02\n",
       "2    WORLDVIEW03_VNIR\n",
       "3    WORLDVIEW03_VNIR\n",
       "4         WORLDVIEW02\n",
       "Name: sensor_platform_name, dtype: object"
      ]
     },
     "execution_count": 20,
     "metadata": {},
     "output_type": "execute_result"
    }
   ],
   "source": [
    "load_json['sensor_platform_name'].head()"
   ]
  },
  {
   "cell_type": "code",
   "execution_count": 21,
   "id": "89ca0ea1-0c1a-4fb5-bbb4-2171ed189b20",
   "metadata": {},
   "outputs": [],
   "source": [
    "extracted_filters=load_json[['img_filename', 'category', 'country_code', 'sensor_platform_name', 'spatial_reference', 'set']]"
   ]
  },
  {
   "cell_type": "code",
   "execution_count": 23,
   "id": "80cc5a8f-eba1-4c40-a455-254f29fc4057",
   "metadata": {},
   "outputs": [
    {
     "name": "stderr",
     "output_type": "stream",
     "text": [
      "/var/folders/r5/lnw8sszn6w7gb92cnh9v0kk40000gn/T/ipykernel_74834/715191318.py:1: SettingWithCopyWarning: \n",
      "A value is trying to be set on a copy of a slice from a DataFrame.\n",
      "Try using .loc[row_indexer,col_indexer] = value instead\n",
      "\n",
      "See the caveats in the documentation: https://pandas.pydata.org/pandas-docs/stable/user_guide/indexing.html#returning-a-view-versus-a-copy\n",
      "  extracted_filters['coordinates']=reverseCoordinates\n"
     ]
    }
   ],
   "source": [
    "extracted_filters['coordinates']=reverseCoordinates"
   ]
  },
  {
   "cell_type": "code",
   "execution_count": 24,
   "id": "213999fb-a9db-41e1-85a3-3aba124f430a",
   "metadata": {},
   "outputs": [],
   "source": [
    "extracted_filters.to_json('./FilteringData.json', orient='records')"
   ]
  },
  {
   "cell_type": "code",
   "execution_count": 26,
   "id": "f1762c5b-8916-4855-8191-fbaf2fd46351",
   "metadata": {},
   "outputs": [
    {
     "data": {
      "text/plain": [
       "img_filename                        fountain_514_1_rgb.tif\n",
       "category                                          fountain\n",
       "country_code                                           CHE\n",
       "sensor_platform_name                              GEOEYE01\n",
       "spatial_reference                             GCS_WGS_1984\n",
       "set                                                  train\n",
       "coordinates             [8.583081799999999, 47.4490394778]\n",
       "Name: 0, dtype: object"
      ]
     },
     "execution_count": 26,
     "metadata": {},
     "output_type": "execute_result"
    }
   ],
   "source": [
    "extracted_filters.iloc[0]"
   ]
  },
  {
   "cell_type": "code",
   "execution_count": null,
   "id": "63384805-2cf6-4c75-a52f-5524c57aa532",
   "metadata": {},
   "outputs": [],
   "source": []
  }
 ],
 "metadata": {
  "kernelspec": {
   "display_name": "Python 3 (ipykernel)",
   "language": "python",
   "name": "python3"
  },
  "language_info": {
   "codemirror_mode": {
    "name": "ipython",
    "version": 3
   },
   "file_extension": ".py",
   "mimetype": "text/x-python",
   "name": "python",
   "nbconvert_exporter": "python",
   "pygments_lexer": "ipython3",
   "version": "3.9.13"
  }
 },
 "nbformat": 4,
 "nbformat_minor": 5
}
